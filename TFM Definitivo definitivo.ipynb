{
 "cells": [
  {
   "cell_type": "markdown",
   "metadata": {},
   "source": [
    "# TFM RAE y Telefónica (Bárbara Saiz y Jose Mª Hernández)\n",
    "\n",
    "\n",
    "Este TFM busca clasificar y cuantificar lo tweets que recive la RAE a traves de su perfil en Twitter (@RAEinforma). Estas consultas tienen en su haber de manera obligatoria la etiqueta #dudaRAE, además de la mención al usuario ya indicado. Para lograr nuestro objetivo final, seguiremos los siguientes pasos:\n",
    "    <ol>\n",
    "        <li>Importar tweets\n",
    "            <ul>\n",
    "                <li>Importar documento Excel</li>\n",
    "                <li>Comprobar que funcione</li>\n",
    "                <li>Contar número total de filas y columnas</li>\n",
    "                <li>**Extraer todos los _tweets_ en una variable**</li>\n",
    "            </ul>\n",
    "        </li>\n",
    "        <li>Organizar tweets</li>\n",
    "        <li>Limpiar tweets</li>\n",
    "    </ol>\n"
   ]
  },
  {
   "cell_type": "markdown",
   "metadata": {},
   "source": [
    "# Etapa 1: Importar tweets\n",
    "\n",
    "En esta primera parte del TFM vamos a importar los tweets que nos pasó Rafa"
   ]
  },
  {
   "cell_type": "code",
   "execution_count": 29,
   "metadata": {
    "scrolled": true
   },
   "outputs": [
    {
     "name": "stdout",
     "output_type": "stream",
     "text": [
      "Es la hoja \" tweet \" la que está activa\n",
      "@RAEinforma ¿es correcta esta expresión \"e/o\"? Un ejemplo: \"para la web e/o impresión gráfica\"...¿no debería ser y/o? #dudaRAE\n",
      "@RAEinforma \"Danilo no solo la amenazó sin ayuda económica, sino también con quitarle a sus hijos si no regresaba... Tengo entendido que las prótasis pueden ocupar la posición inicial, no así la conjunción adversativa. El 2do si no debería ir junto? #dudaRAE\n",
      "@RAEinforma  esta bien utilizado la forma “en dado caso” o es mejor decir, “en caso que..” . Gracias. Texto utilizado “Equipo, en dado caso de que un cliente se comunique e indique judicializó un reclamo..” Gracias! #dudaRAE\n"
     ]
    }
   ],
   "source": [
    "#importamos openpyxl para manejar ficheros de Excel\n",
    "import openpyxl\n",
    "\n",
    "#abrimos nuestro documento de Excel\n",
    "wb = openpyxl.load_workbook(\"tweet.xlsx\")\n",
    "\n",
    "#comprobamos cuantas hojas distintas tendrá el documento de excel con el que trabajamos (este solo tiene 1: \"tweet\")\n",
    "sheets = wb.sheetnames\n",
    "\n",
    "#comprobamos cual de las hojas está activa, como solo hay una, pues está activa solo la hoja \"sheet\"\n",
    "currently_active = wb.active.title\n",
    "print (\"Es la hoja \\\"\", currently_active, \"\\\" la que está activa\")\n",
    "\n",
    "#seleecionamos la hoja con la que queremos trabajar, como solo hay una, este paso puede no ser necesario\n",
    "sheet_we_use = wb[\"tweet\"]\n",
    "\n",
    "#ahora vamos a extraer un solo tweet\n",
    "#los twees se encuentran en la columna B, a partir de la fila 2\n",
    "segundo_tweet = sheet_we_use[\"B3\"].value\n",
    "print (segundo_tweet)\n",
    "\n",
    "#todo lo anterior se puede resumir con el siguiente codigo:\n",
    "    #print(wb[\"tweet\"][\"B3\"].value)\n",
    "    \n",
    "    \n",
    "#Option 2\n",
    "#para importar el valor de una celda determinada:\n",
    "    #1_ indicamos la hoja\n",
    "    #2_ usamos .cell(fila,columna).value\n",
    "tercer_tweet = sheet_we_use.cell(4,2).value\n",
    "print (tercer_tweet)\n",
    "\n",
    "#Option 3\n",
    "print (sheet_we_use.cell(row=5, column=2).value)\n",
    "\n",
    "#Option 4\n",
    "#no recomendada por salta un aviso\n",
    "    #print (wb.get_sheet_by_name(\"tweet\").cell(row=17, column=2).value)\n",
    "wb.close()"
   ]
  },
  {
   "cell_type": "markdown",
   "metadata": {},
   "source": [
    "\n",
    "**Una vez conseguimos manejar el fichero de Excel, ahora vamos a tratar de extraer columnas. Para ello necesitamos saber en primer lugar el número total de filas**\n"
   ]
  },
  {
   "cell_type": "code",
   "execution_count": 30,
   "metadata": {},
   "outputs": [
    {
     "name": "stdout",
     "output_type": "stream",
     "text": [
      "El documento tiene 31711 filas\n",
      "El documento Excel tiene un total de 31711 filas y 24 columnas\n"
     ]
    }
   ],
   "source": [
    "#para que no de problemas, cerramos el archivo en la celda de código previa, y aquí lo volvemos a abrir\n",
    "\n",
    "#importamos openpyxl para manejar ficheros de Excel\n",
    "import openpyxl\n",
    "\n",
    "#abrimos nuestro documento de Excel\n",
    "wb = openpyxl.load_workbook(\"tweet.xlsx\")\n",
    "\n",
    "#usamos una determinada hoja (solo tenemos una)\n",
    "sheet_we_use = wb[\"tweet\"]\n",
    "\n",
    "#vamos a conoces el número total de filas\n",
    "row = sheet_we_use.max_row\n",
    "print (\"El documento tiene\", row, \"filas\")\n",
    "\n",
    "#vamos a conoces el número total de columnas\n",
    "#no es necesario en realidad, pues de momento solo usaremos la fila 2\n",
    "column = sheet_we_use.max_column\n",
    "\n",
    "print (\"El documento Excel tiene un total de\", row, \"filas y\", column, \"columnas\")"
   ]
  },
  {
   "cell_type": "markdown",
   "metadata": {},
   "source": [
    "**Ahora llegamos al paso final de esta Etapa 1, que es la obtención de todos los tweets, para su posterior tratamiento**"
   ]
  },
  {
   "cell_type": "code",
   "execution_count": 43,
   "metadata": {},
   "outputs": [
    {
     "name": "stdout",
     "output_type": "stream",
     "text": [
      "['@RAEinforma #dudaRAE  ¿Es esto cierto? https://t.co/xOSOJSX3vW', '@RAEinforma ¿es correcta esta expresión \"e/o\"? Un ejemplo: \"para la web e/o impresión gráfica\"...¿no debería ser y/o? #dudaRAE', '@RAEinforma \"Danilo no solo la amenazó sin ayuda económica, sino también con quitarle a sus hijos si no regresaba... Tengo entendido que las prótasis pueden ocupar la posición inicial, no así la conjunción adversativa. El 2do si no debería ir junto? #dudaRAE', '@RAEinforma  esta bien utilizado la forma “en dado caso” o es mejor decir, “en caso que..” . Gracias. Texto utilizado “Equipo, en dado caso de que un cliente se comunique e indique judicializó un reclamo..” Gracias! #dudaRAE', '@RAEinforma #dudaRAE\\nSi un grupo X está formado por 4 elementos, ¿sería correcto utilizar el verbo \"agrupar\" para decir que contiene 3 de esos 4 elementos?\\n\\nEs decir: \"X agrupa elemento 1, elemento 2 y elemento 3\"\\n\\n¿O solo se puede emplear cuando mencionemos todos los elementos?', '@RAEinforma #dudaRAE es válido decir que una persona es inseria para decir que le falta seriedad, que no es seria?', '@RAEinforma Yo escribo Cannabis sativa (marihuana). #dudaRAE, ¿porqué Cannabis es con mayúscula y sativa con minúscula?', 'Señores @RAEinforma, tengo una duda (#dudaRAE): ¿Puedo usar como ejemplo al vicepresidente de Guatemala @GuilleCastilloR y su relación con el presidente @DrGiammattei para explicarle a un extranjero lo que significa el término “Lo agarraron de maje”?\\n\\nGracias por su respuesta.', 'Awwwn yo no me atrevería a importunar al CM de la RAE. A veces se pone intenso 😶', '']\n",
      "31710\n",
      "True\n"
     ]
    }
   ],
   "source": [
    "lista_de_tweets = []\n",
    "for i in range(2,row+1):\n",
    "    todos_los_tweets = sheet_we_use.cell(i,2).value\n",
    "    lista_de_tweets.append(todos_los_tweets)\n",
    "print (lista_de_tweets[0:10])\n",
    "print (len(lista_de_tweets))\n",
    "print (len(lista_de_tweets) == row-1)"
   ]
  },
  {
   "cell_type": "markdown",
   "metadata": {},
   "source": [
    "### Nota 1\n",
    "\n",
    "En caso de tener que importar un fichero txt, el código sería el siguiente:\n",
    "``` python \n",
    "\n",
    "corpus_de_tweets = open('tweets.txt', 'rb')\n",
    "corpus_de_tweets = corpus_de_tweets.read()\n",
    "print(corpus_de_tweets)\n",
    "\n",
    "```\n",
    "\n",
    "Y en caso de tener que importar un fichero cvs, el código sería el siguiente:\n",
    "\n",
    "``` python \n",
    "\n",
    "import csv\n",
    " \n",
    "with open('tuits.csv') as lista_de_tweets:  \n",
    "    reader = csv.reader(lista_de_tweets)\n",
    "    for columna_de_tweets in reader:\n",
    "        tweets = columna_de_tweets[1]\n",
    "        print (tweets)\n",
    "```\n"
   ]
  },
  {
   "cell_type": "markdown",
   "metadata": {},
   "source": [
    "# Etapa 2: Separar los tweets uno a uno\n",
    "\n",
    "En la siguiente sección vamos a separar uno a uno los tweets para su posterior analisis"
   ]
  },
  {
   "cell_type": "code",
   "execution_count": 50,
   "metadata": {},
   "outputs": [
    {
     "name": "stdout",
     "output_type": "stream",
     "text": [
      "El tweet \" @RAEinforma ¿es correcta esta expresión \"e/o\"? Un ejemplo: \"para la web e/o impresión gráfica\"...¿no debería ser y/o? #dudaRAE \" tiene 126 caracteres.\n"
     ]
    }
   ],
   "source": [
    "distancia = len(lista_de_tweets[1])\n",
    "print (\"El tweet \\\"\", lista_de_tweets[1], \"\\\" tiene\", distancia, \"caracteres.\")"
   ]
  },
  {
   "cell_type": "markdown",
   "metadata": {},
   "source": [
    "# Etapa 3: Limpieza de tweets\n",
    "\n",
    "    1. Eliminar el usuarios mencionados\n",
    "    2. Eliminar posibles links\n",
    "    3. Eliminar etiquetas\n",
    "    4. Eliminar stopwords"
   ]
  },
  {
   "cell_type": "code",
   "execution_count": 55,
   "metadata": {},
   "outputs": [
    {
     "ename": "TypeError",
     "evalue": "expected string or bytes-like object",
     "output_type": "error",
     "traceback": [
      "\u001b[1;31m---------------------------------------------------------------------------\u001b[0m",
      "\u001b[1;31mTypeError\u001b[0m                                 Traceback (most recent call last)",
      "\u001b[1;32m<ipython-input-55-6f61840172c8>\u001b[0m in \u001b[0;36m<module>\u001b[1;34m\u001b[0m\n\u001b[0;32m      8\u001b[0m     \u001b[1;31m#re para expresiones regulares, sustituye los regex archivados por nada \"\" y pone text al pricipio porque es el tenxto dentro del que lo tiene que hacer\u001b[0m\u001b[1;33m\u001b[0m\u001b[1;33m\u001b[0m\u001b[1;33m\u001b[0m\u001b[0m\n\u001b[0;32m      9\u001b[0m     \u001b[1;32mreturn\u001b[0m \u001b[0mtexto\u001b[0m\u001b[1;33m\u001b[0m\u001b[1;33m\u001b[0m\u001b[0m\n\u001b[1;32m---> 10\u001b[1;33m \u001b[0mprint\u001b[0m \u001b[1;33m(\u001b[0m\u001b[0mRemoveAt\u001b[0m\u001b[1;33m(\u001b[0m\u001b[0mlista_de_tweets\u001b[0m\u001b[1;33m[\u001b[0m\u001b[1;36m0\u001b[0m\u001b[1;33m:\u001b[0m\u001b[1;36m2\u001b[0m\u001b[1;33m]\u001b[0m\u001b[1;33m)\u001b[0m\u001b[1;33m)\u001b[0m\u001b[1;33m\u001b[0m\u001b[1;33m\u001b[0m\u001b[0m\n\u001b[0m",
      "\u001b[1;32m<ipython-input-55-6f61840172c8>\u001b[0m in \u001b[0;36mRemoveAt\u001b[1;34m(texto)\u001b[0m\n\u001b[0;32m      5\u001b[0m     \u001b[1;31m#se usa W para que abarque los alfanumericos\u001b[0m\u001b[1;33m\u001b[0m\u001b[1;33m\u001b[0m\u001b[1;33m\u001b[0m\u001b[0m\n\u001b[0;32m      6\u001b[0m     \u001b[1;31m#regex es una variable con una expresior regular r\"http\\S+\" se parará con un espacio y archiva el resto\u001b[0m\u001b[1;33m\u001b[0m\u001b[1;33m\u001b[0m\u001b[1;33m\u001b[0m\u001b[0m\n\u001b[1;32m----> 7\u001b[1;33m     \u001b[0mtexto\u001b[0m \u001b[1;33m=\u001b[0m \u001b[0mre\u001b[0m\u001b[1;33m.\u001b[0m\u001b[0msub\u001b[0m\u001b[1;33m(\u001b[0m\u001b[0mregex\u001b[0m\u001b[1;33m,\u001b[0m\u001b[1;34m\"\"\u001b[0m\u001b[1;33m,\u001b[0m\u001b[0mtexto\u001b[0m\u001b[1;33m)\u001b[0m\u001b[1;33m\u001b[0m\u001b[1;33m\u001b[0m\u001b[0m\n\u001b[0m\u001b[0;32m      8\u001b[0m     \u001b[1;31m#re para expresiones regulares, sustituye los regex archivados por nada \"\" y pone text al pricipio porque es el tenxto dentro del que lo tiene que hacer\u001b[0m\u001b[1;33m\u001b[0m\u001b[1;33m\u001b[0m\u001b[1;33m\u001b[0m\u001b[0m\n\u001b[0;32m      9\u001b[0m     \u001b[1;32mreturn\u001b[0m \u001b[0mtexto\u001b[0m\u001b[1;33m\u001b[0m\u001b[1;33m\u001b[0m\u001b[0m\n",
      "\u001b[1;32m~\\anaconda3\\lib\\re.py\u001b[0m in \u001b[0;36msub\u001b[1;34m(pattern, repl, string, count, flags)\u001b[0m\n\u001b[0;32m    208\u001b[0m     \u001b[0ma\u001b[0m \u001b[0mcallable\u001b[0m\u001b[1;33m,\u001b[0m \u001b[0mit\u001b[0m\u001b[0;31m'\u001b[0m\u001b[0ms\u001b[0m \u001b[0mpassed\u001b[0m \u001b[0mthe\u001b[0m \u001b[0mMatch\u001b[0m \u001b[0mobject\u001b[0m \u001b[1;32mand\u001b[0m \u001b[0mmust\u001b[0m \u001b[1;32mreturn\u001b[0m\u001b[1;33m\u001b[0m\u001b[1;33m\u001b[0m\u001b[0m\n\u001b[0;32m    209\u001b[0m     a replacement string to be used.\"\"\"\n\u001b[1;32m--> 210\u001b[1;33m     \u001b[1;32mreturn\u001b[0m \u001b[0m_compile\u001b[0m\u001b[1;33m(\u001b[0m\u001b[0mpattern\u001b[0m\u001b[1;33m,\u001b[0m \u001b[0mflags\u001b[0m\u001b[1;33m)\u001b[0m\u001b[1;33m.\u001b[0m\u001b[0msub\u001b[0m\u001b[1;33m(\u001b[0m\u001b[0mrepl\u001b[0m\u001b[1;33m,\u001b[0m \u001b[0mstring\u001b[0m\u001b[1;33m,\u001b[0m \u001b[0mcount\u001b[0m\u001b[1;33m)\u001b[0m\u001b[1;33m\u001b[0m\u001b[1;33m\u001b[0m\u001b[0m\n\u001b[0m\u001b[0;32m    211\u001b[0m \u001b[1;33m\u001b[0m\u001b[0m\n\u001b[0;32m    212\u001b[0m \u001b[1;32mdef\u001b[0m \u001b[0msubn\u001b[0m\u001b[1;33m(\u001b[0m\u001b[0mpattern\u001b[0m\u001b[1;33m,\u001b[0m \u001b[0mrepl\u001b[0m\u001b[1;33m,\u001b[0m \u001b[0mstring\u001b[0m\u001b[1;33m,\u001b[0m \u001b[0mcount\u001b[0m\u001b[1;33m=\u001b[0m\u001b[1;36m0\u001b[0m\u001b[1;33m,\u001b[0m \u001b[0mflags\u001b[0m\u001b[1;33m=\u001b[0m\u001b[1;36m0\u001b[0m\u001b[1;33m)\u001b[0m\u001b[1;33m:\u001b[0m\u001b[1;33m\u001b[0m\u001b[1;33m\u001b[0m\u001b[0m\n",
      "\u001b[1;31mTypeError\u001b[0m: expected string or bytes-like object"
     ]
    }
   ],
   "source": [
    "import re\n",
    "#eliminar el usuario que los ha escrito\n",
    "def RemoveAt(texto):\n",
    "    regex= r\"@RAEinforma\" \n",
    "    #se usa W para que abarque los alfanumericos\n",
    "    #regex es una variable con una expresior regular r\"http\\S+\" se parará con un espacio y archiva el resto\n",
    "    texto = re.sub(regex,\"\",texto) \n",
    "    #re para expresiones regulares, sustituye los regex archivados por nada \"\" y pone text al pricipio porque es el tenxto dentro del que lo tiene que hacer\n",
    "    return texto\n",
    "print (RemoveAt(lista_de_tweets[0:2]))"
   ]
  },
  {
   "cell_type": "code",
   "execution_count": 1,
   "metadata": {},
   "outputs": [
    {
     "name": "stdout",
     "output_type": "stream",
     "text": [
      "23\n"
     ]
    }
   ],
   "source": [
    "#Esto es una comprobación de funcionamiento\n",
    "a = 33 \n",
    "b = 10\n",
    "print ( a - b )"
   ]
  },
  {
   "cell_type": "code",
   "execution_count": null,
   "metadata": {},
   "outputs": [],
   "source": []
  }
 ],
 "metadata": {
  "kernelspec": {
   "display_name": "Python 3",
   "language": "python",
   "name": "python3"
  },
  "language_info": {
   "codemirror_mode": {
    "name": "ipython",
    "version": 3
   },
   "file_extension": ".py",
   "mimetype": "text/x-python",
   "name": "python",
   "nbconvert_exporter": "python",
   "pygments_lexer": "ipython3",
   "version": "3.8.3"
  }
 },
 "nbformat": 4,
 "nbformat_minor": 4
}
