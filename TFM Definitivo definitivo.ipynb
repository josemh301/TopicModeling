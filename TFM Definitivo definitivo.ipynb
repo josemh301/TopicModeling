{
 "cells": [
  {
   "cell_type": "markdown",
   "metadata": {},
   "source": [
    "# TFM RAE y Telefónica (Bárbara Saiz y Jose Mª Hernández)\n",
    "\n",
    "\n",
    "Este TFM busca clasificar y cuantificar lo tweets que recive la RAE a traves de su perfil en Twitter (@RAEinforma). Estas consultas tienen en su haber de manera obligatoria la etiqueta #dudaRAE, además de la mención al usuario ya indicado. Para lograr nuestro objetivo final, seguiremos los siguientes pasos:\n",
    "    1. Importar tweets\n",
    "    2. Separar los tweets uno a uno"
   ]
  },
  {
   "cell_type": "markdown",
   "metadata": {},
   "source": [
    "# Etapa 1: Importar tweets\n",
    "\n",
    "En esta primera parte del TFM vamos a importar los tweets que nos pasó Rafa"
   ]
  },
  {
   "cell_type": "code",
   "execution_count": 7,
   "metadata": {},
   "outputs": [
    {
     "name": "stdout",
     "output_type": "stream",
     "text": [
      "text\n",
      "@sare621107 #RAEconsultas Lo que indica el Â«DLEÂ» es que se documenta el uso de la palabra Â«toltecaÂ» con el sentdio de 'lengua que hablaban los toltecas', como en este ejemplo: Â«Encontramos el maguey amarillo, que en tolteca se llama \"metl coztli\"Â».\n",
      "@kunaino #RAEconsultas En efecto, debe de tratarse de una confusiÃ³n por Â«atestadaÂ», del verbo Â«atestarÂ» 'meter o colocar excesivo nÃºmero de personas o cosas en un lugar'.\n",
      "@so3ndok #RAEconsultas SÃ­, uno de los usos de Â«saltarÂ» es 'arrojarse desde una altura'. Es un acto voluntario, a diferencia de caerse.\n",
      "@JorgeBorlandL #RAEconsultas Lo sentimos, pero no es funciÃ³n de este servicio atender consultas sobre la bÃºsqueda del significante adecuado para un objeto o concepto determinado. Esperamos serle de utilidad en otra ocasiÃ³n.\n",
      "@jandrote #RAEconsultas La grafÃ­a del gerundio del verbo Â«irÂ» es Â«yendoÂ» (no *Â«iendoÂ»).\n",
      "\n",
      "@Alexandros_23 #RAEconsultas De forma general, si introducen un complemento interno al predicado, no se escribe coma (aunque en posiciÃ³n inicial o medial pueden llevarla): Â«Por eso vineÂ». Si son adjuntos perifÃ©ricos (externos a la predicaciÃ³n), es preferible la coma: Â«Por eso, recuÃ©rdaseloÂ».\n",
      "@agustinieto #RAEconsultas Hemos documentado su empleo en textos argentinos con el sentido de 'limitar, imponer un cupo a algo'.\n",
      "@FADEtumaco #RAEconsultas Parece una creaciÃ³n humorÃ­stica, acrÃ³nimo de Â«artimaÃ±aÂ» y Â«subterfugioÂ», pero tambiÃ©n puede ser una errata por Â«artilugioÂ».\n",
      "@veroalenda #RAEconsultas Voces como Â«mamÃ¡Â», Â«papÃ¡Â», Â«abuelaÂ», Â«tÃ­oÂ»... son meros nombres comunes y deben escribirse con minÃºsculas, por mÃ¡s que su referencia sea concreta en un contexto dado: Â«No llores, mamÃ¡, ya pasarÃ¡Â».\n",
      "@MarcoVigo14 #RAEconsultas Al ser la hache muda en esa interjecciÃ³n, no estÃ¡ justificada su repeticiÃ³n para representar grÃ¡ficamente un alargamiento expresivo. Se suprimirÃ¡ esa indicaciÃ³n en posteriores reimpresiones del Â«Libro de estiloÂ».\n",
      "@Mecs2016 #RAEconsultas Como femenino de Â«juezÂ», son vÃ¡lidos Â«(la) juezÂ» y Â«(la) juezaÂ». V. https://t.co/woy1wyIMTg.\n",
      "@Mecs2016 #RAEconsultas Gramaticalmente, el femenino de Â«mÃ©dicoÂ» es Â«mÃ©dicaÂ», tanto en usos adjetivos (Â«consulta mÃ©dicaÂ») como en usos sustantivos (Â«Mi hermana es mÃ©dica)Â»; por tanto, es esa la forma que debe usarse en referencia a la mujer que ejerce la medicina.\n",
      "@MarcoVigo14 #RAEconsultas Para este tipo de cuestiones sobre lenguajes formalizados y vocabulario tÃ©cnico, le sugerimos que traslade su consulta a la Real Academia de Ciencias Exactas, FÃ­sicas y Naturales: https://t.co/wDzPkLppJf.\n",
      "@Big_Thor92 #RAEconsultas La etiqueta se documenta en la prensa polÃ­tica desde hace algunos aÃ±os y, obviamente, usa el esquema de Â«extrema derecha/izquierdaÂ». No obstante, en estos casos, puesto que derecha e izquierda son los extremos del espectro polÃ­tico, tiene mÃ¡s sentido.\n",
      "@Fwhllt #RAEconsultas Como diminutivos de Â«chauÂ» (variante de Â«chaoÂ», voz que se usa como despedida informal) se documentan las formas Â«chaÃ­toÂ» y Â«chaucitoÂ» (con Â«cÂ» se representa el interfijo situado entre la raÃ­z y el sufijo de muchos diminutivos ).\n",
      "\n",
      "@maartacaarda #RAEconsultas La grafÃ­a correcta es Â«superbiÃ©nÂ», ya que los prefijos se escriben unidos sin guion a la base a la que afectan cuando esta es una sola palabra: https://t.co/eFE2PonHNd. Se escribe con tilde por tratarse de una palabra aguda terminada en Â«-nÂ».\n",
      "\n",
      "GrÃ cies @maartacaarda\n",
      "@ARafaelMorales #RAEconsultas Como diminutivo de Â«panÂ», son vÃ¡lidas las formas Â«panecitoÂ» (preferida en EspaÃ±a) y Â«pancitoÂ» (preferida en AmÃ©rica). Hay zonas, como Canarias o Guatemala, donde se usa tambiÃ©n Â«panitoÂ».\n",
      "@MissVSchmidt #RAEconsultas Salvo que se trate del tÃ­tulo de una pintura concreta, lo indicado serÃ­a el uso de la minÃºscula.\n",
      "\n",
      "@John_Mary_ #RAEconsultas El uso de coma para aislar los adjuntos en posiciÃ³n inicial es opcional.\n",
      "@tonymasot #RAEconsultas Lo sentimos, pero solo se atienden dudas concretas sobre el uso correcto del espaÃ±ol, no cuestiones teÃ³ricas, terminolÃ³gicas o de anÃ¡lisis gramatical. Esperamos serle de utilidad en otra ocasiÃ³n.\n",
      "@DannyProl #RAEconsultas La escritura de la voz Â«grupoÂ» con mayÃºscula depende de que esta forme parte de la denominaciÃ³n del grupo de empresas o se trate de un mero categorizador. En este caso, es un mero categorizador, por lo que lo mÃ¡s adecuado serÃ­a el uso de minÃºsculas.\n",
      "@Naty_San_19 @PasapalabraA3 #RAEconsultas La forma correcta es Â«albÃ³ndigaÂ»; la variante *Â«almÃ³ndigaÂ» es un vulgarismo, esto es, una deformaciÃ³n propia del habla popular, cuyo uso debe evitarse en el habla culta. 1/2\n",
      "@Naty_San_19 @PasapalabraA3 #RAEconsultas Aunque *Â«almÃ³ndigaÂ» estÃ¡ en el dicc. acadÃ©mico desde Â«AutoridadesÂ» (1726), ya se decÃ­a ahÃ­, s/v Â«albÃ³ndigaÂ»: Â«... algunos pronuncian \"almÃ³ndiga\", corrompiendo mÃ¡s su origen sin bastante fundamentoÂ». Se ha mantenido esta variante vulgar en el Â«DLEÂ» por tradiciÃ³n. 2/2\n"
     ]
    },
    {
     "ename": "UnicodeDecodeError",
     "evalue": "'charmap' codec can't decode byte 0x9d in position 277: character maps to <undefined>",
     "output_type": "error",
     "traceback": [
      "\u001b[1;31m---------------------------------------------------------------------------\u001b[0m",
      "\u001b[1;31mUnicodeDecodeError\u001b[0m                        Traceback (most recent call last)",
      "\u001b[1;32m<ipython-input-7-0e1c7819614f>\u001b[0m in \u001b[0;36m<module>\u001b[1;34m\u001b[0m\n\u001b[0;32m      3\u001b[0m \u001b[1;32mwith\u001b[0m \u001b[0mopen\u001b[0m\u001b[1;33m(\u001b[0m\u001b[1;34m'tuits.csv'\u001b[0m\u001b[1;33m)\u001b[0m \u001b[1;32mas\u001b[0m \u001b[0mlista_de_tweets\u001b[0m\u001b[1;33m:\u001b[0m\u001b[1;33m\u001b[0m\u001b[1;33m\u001b[0m\u001b[0m\n\u001b[0;32m      4\u001b[0m     \u001b[0mreader\u001b[0m \u001b[1;33m=\u001b[0m \u001b[0mcsv\u001b[0m\u001b[1;33m.\u001b[0m\u001b[0mreader\u001b[0m\u001b[1;33m(\u001b[0m\u001b[0mlista_de_tweets\u001b[0m\u001b[1;33m)\u001b[0m\u001b[1;33m\u001b[0m\u001b[1;33m\u001b[0m\u001b[0m\n\u001b[1;32m----> 5\u001b[1;33m     \u001b[1;32mfor\u001b[0m \u001b[0mfila\u001b[0m \u001b[1;32min\u001b[0m \u001b[0mreader\u001b[0m\u001b[1;33m:\u001b[0m\u001b[1;33m\u001b[0m\u001b[1;33m\u001b[0m\u001b[0m\n\u001b[0m\u001b[0;32m      6\u001b[0m         \u001b[0mprint\u001b[0m \u001b[1;33m(\u001b[0m\u001b[0mfila\u001b[0m\u001b[1;33m[\u001b[0m\u001b[1;36m1\u001b[0m\u001b[1;33m]\u001b[0m\u001b[1;33m)\u001b[0m\u001b[1;33m\u001b[0m\u001b[1;33m\u001b[0m\u001b[0m\n",
      "\u001b[1;32m~\\anaconda3\\lib\\encodings\\cp1252.py\u001b[0m in \u001b[0;36mdecode\u001b[1;34m(self, input, final)\u001b[0m\n\u001b[0;32m     21\u001b[0m \u001b[1;32mclass\u001b[0m \u001b[0mIncrementalDecoder\u001b[0m\u001b[1;33m(\u001b[0m\u001b[0mcodecs\u001b[0m\u001b[1;33m.\u001b[0m\u001b[0mIncrementalDecoder\u001b[0m\u001b[1;33m)\u001b[0m\u001b[1;33m:\u001b[0m\u001b[1;33m\u001b[0m\u001b[1;33m\u001b[0m\u001b[0m\n\u001b[0;32m     22\u001b[0m     \u001b[1;32mdef\u001b[0m \u001b[0mdecode\u001b[0m\u001b[1;33m(\u001b[0m\u001b[0mself\u001b[0m\u001b[1;33m,\u001b[0m \u001b[0minput\u001b[0m\u001b[1;33m,\u001b[0m \u001b[0mfinal\u001b[0m\u001b[1;33m=\u001b[0m\u001b[1;32mFalse\u001b[0m\u001b[1;33m)\u001b[0m\u001b[1;33m:\u001b[0m\u001b[1;33m\u001b[0m\u001b[1;33m\u001b[0m\u001b[0m\n\u001b[1;32m---> 23\u001b[1;33m         \u001b[1;32mreturn\u001b[0m \u001b[0mcodecs\u001b[0m\u001b[1;33m.\u001b[0m\u001b[0mcharmap_decode\u001b[0m\u001b[1;33m(\u001b[0m\u001b[0minput\u001b[0m\u001b[1;33m,\u001b[0m\u001b[0mself\u001b[0m\u001b[1;33m.\u001b[0m\u001b[0merrors\u001b[0m\u001b[1;33m,\u001b[0m\u001b[0mdecoding_table\u001b[0m\u001b[1;33m)\u001b[0m\u001b[1;33m[\u001b[0m\u001b[1;36m0\u001b[0m\u001b[1;33m]\u001b[0m\u001b[1;33m\u001b[0m\u001b[1;33m\u001b[0m\u001b[0m\n\u001b[0m\u001b[0;32m     24\u001b[0m \u001b[1;33m\u001b[0m\u001b[0m\n\u001b[0;32m     25\u001b[0m \u001b[1;32mclass\u001b[0m \u001b[0mStreamWriter\u001b[0m\u001b[1;33m(\u001b[0m\u001b[0mCodec\u001b[0m\u001b[1;33m,\u001b[0m\u001b[0mcodecs\u001b[0m\u001b[1;33m.\u001b[0m\u001b[0mStreamWriter\u001b[0m\u001b[1;33m)\u001b[0m\u001b[1;33m:\u001b[0m\u001b[1;33m\u001b[0m\u001b[1;33m\u001b[0m\u001b[0m\n",
      "\u001b[1;31mUnicodeDecodeError\u001b[0m: 'charmap' codec can't decode byte 0x9d in position 277: character maps to <undefined>"
     ]
    }
   ],
   "source": [
    "import csv\n",
    " \n",
    "with open('tuits.csv') as lista_de_tweets:  \n",
    "    reader = csv.reader(lista_de_tweets)\n",
    "    for fila in reader:\n",
    "        print (fila[1])"
   ]
  },
  {
   "cell_type": "markdown",
   "metadata": {},
   "source": [
    "# Etapa 2: Separar los tweets uno a uno\n",
    "\n",
    "En la siguiente sección vamos a separar uno a uno los tweets para su posterior analisis"
   ]
  },
  {
   "cell_type": "code",
   "execution_count": null,
   "metadata": {},
   "outputs": [],
   "source": []
  }
 ],
 "metadata": {
  "kernelspec": {
   "display_name": "Python 3",
   "language": "python",
   "name": "python3"
  },
  "language_info": {
   "codemirror_mode": {
    "name": "ipython",
    "version": 3
   },
   "file_extension": ".py",
   "mimetype": "text/x-python",
   "name": "python",
   "nbconvert_exporter": "python",
   "pygments_lexer": "ipython3",
   "version": "3.8.3"
  }
 },
 "nbformat": 4,
 "nbformat_minor": 4
}
