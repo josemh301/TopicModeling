{
 "cells": [
  {
   "cell_type": "code",
   "execution_count": 3,
   "metadata": {},
   "outputs": [
    {
     "name": "stdout",
     "output_type": "stream",
     "text": [
      "                _id        userid  quote_count  reply_count  retweet_count  \\\n",
      "count  6.946000e+03  6.946000e+03  3805.000000  3805.000000    3805.000000   \n",
      "mean   1.326107e+18  2.539762e+17     6.075164     1.775821      20.668068   \n",
      "std    8.050390e+16  4.766075e+17   113.447300    30.592166     447.909480   \n",
      "min    2.744701e+17  3.349081e+06     0.000000     0.000000       0.000000   \n",
      "25%    1.334842e+18  3.504113e+08     0.000000     0.000000       0.000000   \n",
      "50%    1.338686e+18  3.504113e+08     0.000000     0.000000       0.000000   \n",
      "75%    1.339436e+18  3.239764e+09     0.000000     0.000000       0.000000   \n",
      "max    1.340183e+18  1.339942e+18  4460.000000  1497.000000   17551.000000   \n",
      "\n",
      "       favorite_count  coordinates  in_reply_to_user_id_str  \\\n",
      "count     3805.000000          0.0             2.712000e+03   \n",
      "mean        50.935085          NaN             4.393932e+17   \n",
      "std       1108.265262          NaN             5.651995e+17   \n",
      "min          0.000000          NaN             8.554410e+05   \n",
      "25%          0.000000          NaN             3.303760e+08   \n",
      "50%          0.000000          NaN             1.420152e+09   \n",
      "75%          0.000000          NaN             1.089315e+18   \n",
      "max      42456.000000          NaN             1.339731e+18   \n",
      "\n",
      "       in_reply_to_status_id_str  quoted_status_id_str     RT_source  \\\n",
      "count               2.712000e+03                   0.0  3.141000e+03   \n",
      "mean                1.313041e+18                   NaN  1.320010e+18   \n",
      "std                 1.038606e+17                   NaN  9.144887e+16   \n",
      "min                 2.742156e+17                   NaN  2.781295e+17   \n",
      "25%                 1.334188e+18                   NaN  1.335304e+18   \n",
      "50%                 1.337427e+18                   NaN  1.338435e+18   \n",
      "75%                 1.338908e+18                   NaN  1.339205e+18   \n",
      "max                 1.340146e+18                   NaN  1.340033e+18   \n",
      "\n",
      "             nRTin  \n",
      "count  3805.000000  \n",
      "mean      0.825493  \n",
      "std      13.285569  \n",
      "min       0.000000  \n",
      "25%       0.000000  \n",
      "50%       0.000000  \n",
      "75%       0.000000  \n",
      "max     727.000000  \n"
     ]
    }
   ],
   "source": [
    "import csv\n",
    "import pandas\n",
    "csv_data = pandas.read_csv('tuits.csv')\n",
    "print (csv_data.describe())\n",
    "\n",
    "#ahora en esta linea de codigo se selecciona una columna y se mete cada fila de esa columna como un elemento de una lista\n",
    "\n",
    "lista_de_todos_los_tweets = [#esta lista es la que salga d la linea de codigo anterior]\n",
    "\n",
    "tweet_con_dudaRAE = []\n",
    "tweet_con_RAEconsulta = []\n",
    "\n",
    "for i in lista_de_todos_los_tweets:\n",
    "    if \"#dudaRAE\" in i:\n",
    "        tweet_con_dudaRAE.append(i)\n",
    "    if \"#dudaRAE\" not in i:\n",
    "        tweet_con_RAEconsulta.append(i)\n",
    "print (tweet_con_dudaRAE)\n",
    "print (tweet_con_RAEconsulta)"
   ]
  },
  {
   "cell_type": "code",
   "execution_count": 11,
   "metadata": {},
   "outputs": [
    {
     "ename": "NameError",
     "evalue": "name 'palabra' is not defined",
     "output_type": "error",
     "traceback": [
      "\u001b[1;31m---------------------------------------------------------------------------\u001b[0m",
      "\u001b[1;31mNameError\u001b[0m                                 Traceback (most recent call last)",
      "\u001b[1;32m<ipython-input-11-4544c29f6c1c>\u001b[0m in \u001b[0;36m<module>\u001b[1;34m\u001b[0m\n\u001b[0;32m      7\u001b[0m \u001b[1;33m\u001b[0m\u001b[0m\n\u001b[0;32m      8\u001b[0m \u001b[1;33m\u001b[0m\u001b[0m\n\u001b[1;32m----> 9\u001b[1;33m \u001b[0mestaPalabraEnFrase\u001b[0m\u001b[1;33m(\u001b[0m\u001b[1;34m\"juan come manzanas\"\u001b[0m\u001b[1;33m,\u001b[0m \u001b[0mpalabra\u001b[0m\u001b[1;33m)\u001b[0m\u001b[1;33m\u001b[0m\u001b[1;33m\u001b[0m\u001b[0m\n\u001b[0m",
      "\u001b[1;31mNameError\u001b[0m: name 'palabra' is not defined"
     ]
    }
   ],
   "source": [
    "palabra = [\"juan\", \"pedro\"]\n",
    "def estaPalabraEnFrase(frase, palabra):\n",
    "    \n",
    "    if palabra in frase:\n",
    "        return True  #Es pregunta\n",
    "    else:\n",
    "        return False  #Es respuesta\n",
    "\n",
    "\n",
    "estaPalabraEnFrase(\"juan come manzanas\", palabra)"
   ]
  },
  {
   "cell_type": "code",
   "execution_count": 17,
   "metadata": {},
   "outputs": [
    {
     "data": {
      "text/plain": [
       "True"
      ]
     },
     "execution_count": 17,
     "metadata": {},
     "output_type": "execute_result"
    }
   ],
   "source": [
    "\n",
    "palabra = \"sandra\"\n",
    "def estaPalabraEnFrase(frase, palabra):\n",
    "    if palabra not in frase:\n",
    "        return False\n",
    "    if palabra in frase:\n",
    "        return True\n",
    "    \n",
    "estaPalabraEnFrase(\"#RAEinforma sandra viene a madrid\", palabra)"
   ]
  },
  {
   "cell_type": "code",
   "execution_count": 21,
   "metadata": {},
   "outputs": [
    {
     "name": "stdout",
     "output_type": "stream",
     "text": [
      "#dudaRAE este es el primer tweet\n"
     ]
    }
   ],
   "source": [
    "lista_tweets = [\"#dudaRAE este es el primer tweet\",\"#RAEinforma este es el segundo tweet\"]\n",
    "palabra = \"#dudaRAE\" or \"#DudaRAE\"\n",
    "n=0\n",
    "frase = lista_tweets[n]\n",
    "\n",
    "def estaPalabraEnFrase(frase, palabra):    \n",
    "    if palabra in frase:\n",
    "        n = n+1\n",
    "        return True\n",
    "        \n",
    "    if palabra not in frase:\n",
    "        n = n+1\n",
    "        return False"
   ]
  },
  {
   "cell_type": "code",
   "execution_count": 41,
   "metadata": {},
   "outputs": [],
   "source": [
    "lista_tweets = [\"#dudaRAE este es el primer tweet\",\"Me llamo Jose\",\"#RAEinforma este es el segundo tweet\"]\n",
    "palabra = \"#dudaRAE\" or \"#DudaRAE\"\n",
    "\n",
    " \n"
   ]
  },
  {
   "cell_type": "code",
   "execution_count": 42,
   "metadata": {},
   "outputs": [
    {
     "name": "stdout",
     "output_type": "stream",
     "text": [
      "True\n",
      "False\n"
     ]
    }
   ],
   "source": [
    "n = 0\n",
    "if palabra in lista_tweets[n]:\n",
    "    print (True)\n",
    "    n=n+1\n",
    "if palabra not in lista_tweets[n]:\n",
    "    print (False)\n",
    "    n=n+1\n",
    "    "
   ]
  },
  {
   "cell_type": "code",
   "execution_count": null,
   "metadata": {},
   "outputs": [],
   "source": [
    "n = 0\n",
    "lista_ingredientes = ['pera', 'manzana']\n",
    "print (lista_ingrediente[n])"
   ]
  }
 ],
 "metadata": {
  "kernelspec": {
   "display_name": "Python 3",
   "language": "python",
   "name": "python3"
  },
  "language_info": {
   "codemirror_mode": {
    "name": "ipython",
    "version": 3
   },
   "file_extension": ".py",
   "mimetype": "text/x-python",
   "name": "python",
   "nbconvert_exporter": "python",
   "pygments_lexer": "ipython3",
   "version": "3.8.3"
  }
 },
 "nbformat": 4,
 "nbformat_minor": 4
}
