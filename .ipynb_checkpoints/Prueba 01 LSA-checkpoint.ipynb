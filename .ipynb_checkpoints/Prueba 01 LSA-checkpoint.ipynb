{
 "cells": [
  {
   "cell_type": "code",
   "execution_count": 29,
   "metadata": {},
   "outputs": [
    {
     "name": "stdout",
     "output_type": "stream",
     "text": [
      "<class 'list'>\n"
     ]
    }
   ],
   "source": [
    "with open(\"tweets.txt\", mode=\"r\", encoding=\"utf-8\") as fp:\n",
    "    lines=fp.readlines()\n",
    "    print (type(lines))"
   ]
  },
  {
   "cell_type": "code",
   "execution_count": 42,
   "metadata": {},
   "outputs": [],
   "source": [
    "import os.path\n",
    "from gensim import corpora\n",
    "from gensim.models import LsiModel\n",
    "from nltk.tokenize import RegexpTokenizer\n",
    "from nltk.corpus import stopwords\n",
    "from nltk.stem.porter import PorterStemmer\n",
    "from gensim.models.coherencemodel import CoherenceModel\n",
    "import matplotlib.pyplot as plt\n"
   ]
  },
  {
   "cell_type": "code",
   "execution_count": 71,
   "metadata": {},
   "outputs": [],
   "source": [
    "\n",
    "def load_data(path,file_name):\n",
    "\n",
    "    documents_list = []\n",
    "    titles=[]\n",
    "    with open(\"tweets.txt\", mode=\"r\", encoding=\"utf-8\") as fin:\n",
    "        for line in fin.readlines():\n",
    "            text = line.strip()\n",
    "            documents_list.append(text)\n",
    "    print(\"Total Number of Documents:\",len(documents_list))\n",
    "    titles.append( text[0:min(len(text),100)] )\n",
    "    return documents_list,titles"
   ]
  },
  {
   "cell_type": "code",
   "execution_count": 34,
   "metadata": {},
   "outputs": [],
   "source": [
    "def preprocess_data(doc_set):\n",
    "\n",
    "        tokenizer = RegexpTokenizer(r'\\w+')\n",
    "        sp_stop = set(stopwords.words('spanish'))\n",
    "        p_stemmer = PorterStemmer()\n",
    "        texts = []\n",
    "\n",
    "        for i in doc_set:\n",
    "            raw = i.lower()\n",
    "            tokens = tokenizer.tokenize(raw)\n",
    "            stopped_tokens = [i for i in tokens if not i in sp_stop]\n",
    "            stemmed_tokens = [p_stemmer.stem(i) for i in stopped_tokens]\n",
    "            texts.append(stemmed_tokens)\n",
    "\n",
    "        return texts"
   ]
  },
  {
   "cell_type": "code",
   "execution_count": 35,
   "metadata": {},
   "outputs": [],
   "source": [
    "def prepare_corpus(doc_clean):\n",
    "\n",
    "    dictionary = corpora.Dictionary(doc_clean)\n",
    "    doc_term_matrix = [dictionary.doc2bow(doc) for doc in doc_clean]\n",
    "    return dictionary,doc_term_matrix"
   ]
  },
  {
   "cell_type": "code",
   "execution_count": 36,
   "metadata": {},
   "outputs": [],
   "source": [
    "def create_gensim_lsa_model(doc_clean,number_of_topics,words):\n",
    "    dictionary,doc_term_matrix=prepare_corpus(doc_clean)\n",
    "    # generate LSA model\n",
    "    lsamodel = LsiModel(doc_term_matrix, num_topics=number_of_topics, id2word = dictionary)  # train model\n",
    "    print(lsamodel.print_topics(num_topics=number_of_topics, num_words=words))\n",
    "    return lsamodel"
   ]
  },
  {
   "cell_type": "code",
   "execution_count": 37,
   "metadata": {},
   "outputs": [],
   "source": [
    "def compute_coherence_values(dictionary, doc_term_matrix, doc_clean, stop, start=2, step=3):\n",
    "    \"\"\"\n",
    "    Input   : dictionary : Gensim dictionary\n",
    "              corpus : Gensim corpus\n",
    "              texts : List of input texts\n",
    "              stop : Max num of topics\n",
    "    purpose : Compute c_v coherence for various number of topics\n",
    "    Output  : model_list : List of LSA topic models\n",
    "              coherence_values : Coherence values corresponding to the LDA model with respective number of topics\n",
    "    \"\"\"\n",
    "    coherence_values = []\n",
    "    model_list = []\n",
    "    for num_topics in range(start, stop, step):\n",
    "        # generate LSA model\n",
    "        model = LsiModel(doc_term_matrix, num_topics=number_of_topics, id2word = dictionary)  # train model\n",
    "        model_list.append(model)\n",
    "        coherencemodel = CoherenceModel(model=model, texts=doc_clean, dictionary=dictionary, coherence='c_v')\n",
    "        coherence_values.append(coherencemodel.get_coherence())\n",
    "    return model_list, coherence_values"
   ]
  },
  {
   "cell_type": "code",
   "execution_count": 38,
   "metadata": {},
   "outputs": [],
   "source": [
    "def plot_graph(doc_clean,start, stop, step):\n",
    "    dictionary,doc_term_matrix=prepare_corpus(doc_clean)\n",
    "    model_list, coherence_values = compute_coherence_values(dictionary, doc_term_matrix,doc_clean,\n",
    "                                                            stop, start, step)\n",
    "    # Show graph\n",
    "    x = range(start, stop, step)\n",
    "    plt.plot(x, coherence_values)\n",
    "    plt.xlabel(\"Number of Topics\")\n",
    "    plt.ylabel(\"Coherence score\")\n",
    "    plt.legend((\"coherence_values\"), loc='best')\n",
    "    plt.show()"
   ]
  },
  {
   "cell_type": "code",
   "execution_count": 39,
   "metadata": {},
   "outputs": [
    {
     "name": "stdout",
     "output_type": "stream",
     "text": [
      "Total Number of Documents: 9703\n",
      "[(0, '0.635*\"n\" + 0.522*\"raeinforma\" + 0.477*\"dudara\" + 0.106*\"gracia\" + 0.097*\"correcto\" + 0.085*\"si\" + 0.082*\"palabra\" + 0.070*\"correcta\" + 0.066*\"hola\" + 0.060*\"cuál\"'), (1, '0.767*\"n\" + -0.445*\"raeinforma\" + -0.386*\"dudara\" + -0.109*\"gracia\" + -0.091*\"si\" + -0.088*\"correcto\" + -0.086*\"palabra\" + -0.064*\"decir\" + -0.032*\"http\" + -0.032*\"duda\"'), (2, '0.556*\"co\" + 0.554*\"t\" + 0.528*\"http\" + -0.131*\"gracia\" + -0.105*\"correcto\" + -0.104*\"decir\" + -0.099*\"palabra\" + -0.087*\"cuál\" + 0.079*\"si\" + -0.058*\"correcta\"'), (3, '-0.694*\"correcto\" + -0.418*\"decir\" + 0.377*\"palabra\" + 0.259*\"correcta\" + 0.237*\"si\" + 0.145*\"cuál\" + 0.113*\"forma\" + -0.066*\"uso\" + 0.065*\"saber\" + 0.057*\"gracia\"'), (4, '-0.730*\"si\" + -0.288*\"gracia\" + -0.271*\"palabra\" + 0.260*\"raeinforma\" + -0.234*\"correcto\" + 0.203*\"correcta\" + 0.177*\"cuál\" + -0.136*\"decir\" + -0.131*\"saber\" + 0.115*\"forma\"'), (5, '0.592*\"palabra\" + -0.568*\"gracia\" + -0.328*\"correcta\" + -0.232*\"cuál\" + -0.179*\"forma\" + -0.149*\"hola\" + -0.138*\"mucha\" + 0.126*\"raeinforma\" + -0.094*\"si\" + -0.064*\"día\"'), (6, '0.529*\"palabra\" + -0.519*\"si\" + 0.506*\"gracia\" + -0.198*\"raeinforma\" + 0.137*\"correcto\" + 0.119*\"co\" + 0.119*\"t\" + 0.119*\"mucha\" + 0.114*\"hola\" + 0.113*\"http\"')]\n"
     ]
    }
   ],
   "source": [
    "# LSA Model\n",
    "number_of_topics=7\n",
    "words=10\n",
    "document_list,titles=load_data(\"\",\"articles.txt\")\n",
    "clean_text=preprocess_data(document_list)\n",
    "model=create_gensim_lsa_model(clean_text,number_of_topics,words)"
   ]
  },
  {
   "cell_type": "code",
   "execution_count": 40,
   "metadata": {},
   "outputs": [
    {
     "data": {
      "image/png": "[encoded data removed]",
      "text/plain": [
       "<Figure size 432x288 with 1 Axes>"
      ]
     },
     "metadata": {
      "needs_background": "light"
     },
     "output_type": "display_data"
    }
   ],
   "source": [
    "start,stop,step=2,12,1\n",
    "plot_graph(clean_text,start,stop,step)"
   ]
  }
 ],
 "metadata": {
  "kernelspec": {
   "display_name": "Python 3",
   "language": "python",
   "name": "python3"
  },
  "language_info": {
   "codemirror_mode": {
    "name": "ipython",
    "version": 3
   },
   "file_extension": ".py",
   "mimetype": "text/x-python",
   "name": "python",
   "nbconvert_exporter": "python",
   "pygments_lexer": "ipython3",
   "version": "3.8.3"
  }
 },
 "nbformat": 4,
 "nbformat_minor": 4
}
