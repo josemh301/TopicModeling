{
 "cells": [
  {
   "cell_type": "markdown",
   "metadata": {},
   "source": [
    "## TFM: versión LDA  \n",
    "\n",
    "En esta versión del documento, vamos a tratar de analizar los tweets de la RAE de manera cuantitativa y clasificativa haciendo uso de la herramienta LDA y la librería **PANDAS**  "
   ]
  },
  {
   "cell_type": "markdown",
   "metadata": {},
   "source": [
    "### Loading data\n",
    "---\n",
    "Primero debemos importar los tweets de un documento *excel* o *csv*:\n",
    "``` python \n",
    "\n",
    "    # Importing modules\n",
    "    import pandas as pd\n",
    "    import os\n",
    "    \n",
    "    # Read data into papers\n",
    "    papers = pd.read_csv('../../tweets.csv') #ruta\n",
    "    \n",
    "    # Print head\n",
    "    papers.head()\n",
    "\n",
    "    ```"
   ]
  },
  {
   "cell_type": "code",
   "execution_count": 9,
   "metadata": {},
   "outputs": [],
   "source": [
    "#poner código válido aquí:\n",
    "#importar pandas\n",
    "import pandas as pd \n",
    "\n"
   ]
  },
  {
   "cell_type": "markdown",
   "metadata": {},
   "source": [
    "### Data cleaning\n",
    "---\n",
    "El siguiente paso es limpiar los datos. Eliminaremos las columnas que no nos interesan del documento cargado. Además, se imprimirá la primera fila del documento como título de las otras:\n",
    "``` python\n",
    "\n",
    "    # Remove the columns\n",
    "    papers = papers.drop(columns=['id', 'event_type', 'pdf_name'], axis=1).sample(100)\n",
    "    \n",
    "    # Print out the first rows of papers\n",
    "    papers.head()\n",
    "\n",
    "    ```"
   ]
  },
  {
   "cell_type": "code",
   "execution_count": 15,
   "metadata": {},
   "outputs": [],
   "source": [
    "#poner código válido aquí:"
   ]
  },
  {
   "cell_type": "markdown",
   "metadata": {},
   "source": [
    "### Removing\n",
    "---\n",
    "En este apartado vamos a limpiar los signos de puntuación que no nos interesen. En este ejemplo se aprecia el borrado de **puntuación**, **mayúsculas** y la **primera fila** del la hoja de datos, pero se pueden añadir, por ejemplo, **_stopwords_**:\n",
    "``` python\n",
    "\n",
    "    # Load the regular expression library\n",
    "    import re\n",
    "    \n",
    "    # Remove punctuation\n",
    "    papers['paper_text_processed'] = \\\n",
    "    papers['paper_text'].map(lambda x: re.sub('[,\\.!?]', '', x))\n",
    "    \n",
    "    # Convert the titles to lowercase\n",
    "    papers['paper_text_processed'] = \\\n",
    "    papers['paper_text_processed'].map(lambda x: x.lower())\n",
    "    \n",
    "    # Print out the first rows of papers\n",
    "    papers['paper_text_processed'].head()\n",
    "\n",
    "    ```\n",
    "    \n",
    "    "
   ]
  },
  {
   "cell_type": "code",
   "execution_count": 16,
   "metadata": {},
   "outputs": [],
   "source": [
    "#poner código válido aquí:"
   ]
  },
  {
   "cell_type": "markdown",
   "metadata": {},
   "source": [
    "### Create the visual *cloud*\n",
    "---\n",
    "En este apartado vamos a crear una imagen visual que nos indique a través de su tamaño, cuales son las palabras que mas aparecen en nuestro corpus. Esto no tiene unicamente una función decorativa, sino que podemos :\n",
    "``` python\n",
    "\n",
    "    # Import the wordcloud library\n",
    "    from wordcloud import WordCloud\n",
    "    \n",
    "    # Join the different processed titles together.\n",
    "    long_string = ','.join(list(papers['paper_text_processed'].values))\n",
    "    \n",
    "    # Create a WordCloud object\n",
    "    wordcloud = WordCloud(background_color=\"white\", max_words=5000, contour_width=3, contour_color='steelblue')\n",
    "    \n",
    "    # Generate a word cloud\n",
    "    wordcloud.generate(long_string)\n",
    "    \n",
    "    # Visualize the word cloud\n",
    "    wordcloud.to_image()\n",
    "\n",
    "    ```\n",
    "    \n",
    "<img src=\"cloud.jpg\" width=\"50%\" height=\"50%\">\n"
   ]
  },
  {
   "cell_type": "code",
   "execution_count": 17,
   "metadata": {},
   "outputs": [],
   "source": [
    "#poner código válido aquí:"
   ]
  },
  {
   "cell_type": "markdown",
   "metadata": {},
   "source": [
    "### Prepare data for LDA\n",
    "---\n",
    "Hay que transformar los datos para que sirvan como input en un **modelo de entrenamiento LDA**. Se tokeniza y se eliminan las _stopwords_, si es que no se ha hecho antes:\n",
    "``` python\n",
    "\n",
    "    import gensim\n",
    "    from gensim.utils import simple_preprocess\n",
    "    import nltk\n",
    "    nltk.download('stopwords')\n",
    "    from nltk.corpus import stopwords\n",
    "    \n",
    "    stop_words = stopwords.words('english')\n",
    "    stop_words.extend(['from', 'subject', 're', 'edu', 'use'])\n",
    "    \n",
    "    def sent_to_words(sentences):\n",
    "        for sentence in sentences:\n",
    "            # deacc=True removes punctuations\n",
    "            yield(gensim.utils.simple_preprocess(str(sentence), deacc=True))\n",
    "            \n",
    "    def remove_stopwords(texts):\n",
    "        return [[word for word in simple_preprocess(str(doc)) \n",
    "                 if word not in stop_words] for doc in texts]\n",
    "    \n",
    "    data = papers.paper_text_processed.values.tolist()\n",
    "    data_words = list(sent_to_words(data))\n",
    "    \n",
    "    # remove stop words\n",
    "    data_words = remove_stopwords(data_words)\n",
    "    \n",
    "    print(data_words[:1][0][:30])\n",
    "\n",
    "    ```"
   ]
  },
  {
   "cell_type": "code",
   "execution_count": 18,
   "metadata": {},
   "outputs": [],
   "source": [
    "#poner código válido aquí:"
   ]
  },
  {
   "cell_type": "markdown",
   "metadata": {},
   "source": [
    "### Modelo de entrenamiento LDA\n",
    "---\n",
    "En esta parte indicamos a LDA en cuantas categorías se va a clasificar el corpus. En el siguiente ejemplo, vemos que son 10. Como resultado, obtendremos las diez categorias con las palabras que mayor número de apariciones tengan:\n",
    "``` python\n",
    "\n",
    "    from pprint import pprint\n",
    "    \n",
    "    # number of topics\n",
    "    num_topics = 10\n",
    "    \n",
    "    # Build LDA model\n",
    "    lda_model = gensim.models.LdaMulticore(corpus=corpus,\n",
    "                                           id2word=id2word,\n",
    "                                           num_topics=num_topics)\n",
    "    \n",
    "    # Print the Keyword in the 10 topics\n",
    "    pprint(lda_model.print_topics())\n",
    "    doc_lda = lda_model[corpus]\n",
    "```"
   ]
  },
  {
   "cell_type": "code",
   "execution_count": 19,
   "metadata": {},
   "outputs": [],
   "source": [
    "#poner código válido aquí:"
   ]
  },
  {
   "cell_type": "markdown",
   "metadata": {},
   "source": [
    "### Gráficos\n",
    "---\n",
    "En esta seción obtenemos una representación gráfica de los datos:"
   ]
  },
  {
   "cell_type": "code",
   "execution_count": 20,
   "metadata": {},
   "outputs": [],
   "source": [
    "#poner código válido aquí:"
   ]
  }
 ],
 "metadata": {
  "kernelspec": {
   "display_name": "Python 3",
   "language": "python",
   "name": "python3"
  },
  "language_info": {
   "codemirror_mode": {
    "name": "ipython",
    "version": 3
   },
   "file_extension": ".py",
   "mimetype": "text/x-python",
   "name": "python",
   "nbconvert_exporter": "python",
   "pygments_lexer": "ipython3",
   "version": "3.8.3"
  }
 },
 "nbformat": 4,
 "nbformat_minor": 4
}
