{
 "cells": [
  {
   "cell_type": "markdown",
   "metadata": {},
   "source": [
    "### Uso de modulo os  \n",
    "Así se usa el módulo **os**:"
   ]
  },
  {
   "cell_type": "code",
   "execution_count": 18,
   "metadata": {},
   "outputs": [
    {
     "name": "stdout",
     "output_type": "stream",
     "text": [
      "1612048\n",
      "True\n",
      "True\n",
      "False\n",
      "('tweets', '.txt')\n",
      ".txt\n",
      "The last access took place on Apr 22 , 2021 at 17:18:53\n"
     ]
    }
   ],
   "source": [
    "#usar el módulo os \n",
    "#usar el módulo time\n",
    "\n",
    "\n",
    "# Python program to explain os.path.getatime() method \n",
    "    \n",
    "# importing os and time module \n",
    "import os\n",
    "import time\n",
    "\n",
    "print (os.path.getsize('tweets.txt'))\n",
    "print (os.path.exists('tweets.txt'))\n",
    "print (os.path.isfile('tweets.txt'))\n",
    "print (os.path.islink('tweets.txt'))\n",
    "print (os.path.splitext('tweets.txt'))\n",
    "\n",
    "tipo_de_archivo = os.path.splitext('tweets.txt')[1]\n",
    "print (tipo_de_archivo)\n",
    "\n",
    "path = os.path.basename('tweets.txt')\n",
    "access_time = os.path.getatime(path)\n",
    "local_time = time.ctime(access_time)\n",
    "time_list = local_time.split(\" \")\n",
    "print (\"The last access took place on\", time_list[1], time_list[2], \",\",time_list[-1], \"at\", time_list[-2])"
   ]
  },
  {
   "cell_type": "code",
   "execution_count": null,
   "metadata": {},
   "outputs": [],
   "source": []
  }
 ],
 "metadata": {
  "kernelspec": {
   "display_name": "Python 3",
   "language": "python",
   "name": "python3"
  },
  "language_info": {
   "codemirror_mode": {
    "name": "ipython",
    "version": 3
   },
   "file_extension": ".py",
   "mimetype": "text/x-python",
   "name": "python",
   "nbconvert_exporter": "python",
   "pygments_lexer": "ipython3",
   "version": "3.8.3"
  }
 },
 "nbformat": 4,
 "nbformat_minor": 4
}
