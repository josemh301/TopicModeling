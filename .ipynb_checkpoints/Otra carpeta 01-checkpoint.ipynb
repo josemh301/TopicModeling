{
 "cells": [
  {
   "cell_type": "code",
   "execution_count": 3,
   "metadata": {},
   "outputs": [
    {
     "ename": "SyntaxError",
     "evalue": "invalid syntax (<ipython-input-3-c1d871c95500>, line 10)",
     "output_type": "error",
     "traceback": [
      "\u001b[1;36m  File \u001b[1;32m\"<ipython-input-3-c1d871c95500>\"\u001b[1;36m, line \u001b[1;32m10\u001b[0m\n\u001b[1;33m    tweetcondudaRAE=[]\u001b[0m\n\u001b[1;37m                   ^\u001b[0m\n\u001b[1;31mSyntaxError\u001b[0m\u001b[1;31m:\u001b[0m invalid syntax\n"
     ]
    }
   ],
   "source": [
    "import csv\n",
    "import pandas\n",
    "csv_data = pandas.read_csv('tuits.csv')\n",
    "print (csv_data.describe())\n",
    "\n",
    "#ahora en esta linea de codigo se selecciona una columna y se mete cada fila de esa columna como un elemento de una lista\n",
    "\n",
    "lista_de_todos_los_tweets = [#esta lista es la que salga d la linea de codigo anterior]\n",
    "\n",
    "tweet_con_dudaRAE = []\n",
    "tweet_con_RAEconsulta = []\n",
    "\n",
    "for i in lista_de_todos_los_tweets:\n",
    "    if \"#dudaRAE\" in i:\n",
    "        tweet_con_dudaRAE.append(i)\n",
    "    if \"#dudaRAE\" not in i:\n",
    "        tweet_con_RAEconsulta.append(i)\n",
    "print (tweet_con_dudaRAE)\n",
    "print (tweet_con_RAEconsulta)"
   ]
  },
  {
   "cell_type": "code",
   "execution_count": null,
   "metadata": {},
   "outputs": [],
   "source": [
    "palabra = [\"juan\", \"pedro\"]\n",
    "def estaPalabraEnFrase(frase, palabra):\n",
    "    \n",
    "    if palabra in frase:\n",
    "        return True  #Es pregunta\n",
    "    else:\n",
    "        return False  #Es respuesta\n",
    "\n",
    "\n",
    "estaPalabraEnFrase(\"juan come manzanas\", palabra)"
   ]
  },
  {
   "cell_type": "code",
   "execution_count": null,
   "metadata": {},
   "outputs": [],
   "source": [
    "\n",
    "palabra = \"sandra\"\n",
    "def estaPalabraEnFrase(frase, palabra):\n",
    "    if palabra not in frase:\n",
    "        return False\n",
    "    if palabra in frase:\n",
    "        return True\n",
    "    \n",
    "estaPalabraEnFrase(\"#RAEinforma sandra viene a madrid\", palabra)"
   ]
  },
  {
   "cell_type": "code",
   "execution_count": null,
   "metadata": {},
   "outputs": [],
   "source": [
    "lista_tweets = [\"#dudaRAE este es el primer tweet\",\"#RAEinforma este es el segundo tweet\"]\n",
    "palabra = \"#dudaRAE\" or \"#DudaRAE\"\n",
    "n=0\n",
    "frase = lista_tweets[n]\n",
    "\n",
    "def estaPalabraEnFrase(frase, palabra):    \n",
    "    if palabra in frase:\n",
    "        n = n+1\n",
    "        return True\n",
    "        \n",
    "    if palabra not in frase:\n",
    "        n = n+1\n",
    "        return False"
   ]
  },
  {
   "cell_type": "code",
   "execution_count": null,
   "metadata": {},
   "outputs": [],
   "source": [
    "lista_tweets = [\"#dudaRAE este es el primer tweet\",\"Me llamo Jose\",\"#RAEinforma este es el segundo tweet\"]\n",
    "palabra = \"#dudaRAE\" or \"#DudaRAE\"\n",
    "\n",
    " \n"
   ]
  },
  {
   "cell_type": "code",
   "execution_count": null,
   "metadata": {},
   "outputs": [],
   "source": [
    "n = 0\n",
    "if palabra in lista_tweets[n]:\n",
    "    print (True)\n",
    "    n=n+1\n",
    "if palabra not in lista_tweets[n]:\n",
    "    print (False)\n",
    "    n=n+1\n",
    "    "
   ]
  },
  {
   "cell_type": "code",
   "execution_count": null,
   "metadata": {},
   "outputs": [],
   "source": [
    "n = 0\n",
    "lista_ingredientes = ['pera', 'manzana']\n",
    "print (lista_ingrediente[n])"
   ]
  },
  {
   "cell_type": "code",
   "execution_count": null,
   "metadata": {},
   "outputs": [],
   "source": [
    "#quitar signos de puntuación\n",
    "\n",
    "def RemoveComma(text):\n",
    "    regex= r\"\\,\"\n",
    "    text = re.sub(regex,\"\",text) \n",
    "    return text\n",
    "\n",
    "def RemoveUpComma(text):\n",
    "    regex= r\"\\’\"\n",
    "    text = re.sub(regex,\" \",text)\n",
    "    return text\n",
    "\n",
    "def RemoveDot(text):\n",
    "    regex= r\"\\.\"\n",
    "    text = re.sub(regex,\"\",text)\n",
    "    return text\n",
    "\n",
    "def RemoveColon(text):\n",
    "    regex= r\"\\:\"\n",
    "    text = re.sub(regex,\"\",text)\n",
    "    return text\n",
    "\n",
    "def RemoveQuotMarks(text):\n",
    "    regex= r\"\\\"\"\n",
    "    text = re.sub(regex,\"\",text)\n",
    "    return text\n",
    "\n",
    "def RemoveExclamation1(text):\n",
    "    regex= r\"\\¡\"\n",
    "    text = re.sub(regex,\"\",text)\n",
    "    return text\n",
    "\n",
    "def RemoveExclamation2(text):\n",
    "    regex= r\"\\!\"\n",
    "    text = re.sub(regex,\"\",text)\n",
    "    return text\n",
    "\n",
    "def RemoveExclamation(tweet):\n",
    "    tweet=RemoveExclamation1(tweet)\n",
    "    tweet=RemoveExclamation2(tweet)\n",
    "    return tweet\n",
    "\n",
    "def RemoveQuestion1(text):\n",
    "    regex= r\"\\¿\"\n",
    "    text = re.sub(regex,\"\",text) \n",
    "    return text\n",
    "\n",
    "def RemoveQuestion2(text):\n",
    "    regex= r\"\\?\"\n",
    "    text = re.sub(regex,\"\",text)\n",
    "    return text\n",
    "\n",
    "def RemoveQuestion(tweet):\n",
    "    tweet=RemoveQuestion1(tweet)\n",
    "    tweet=RemoveQuestion2(tweet)\n",
    "    return tweet\n",
    "\n",
    "def RemoveHyphen(text):\n",
    "    regex= r\"\\-\" \n",
    "    text = re.sub(regex,\"\",text)\n",
    "    return text\n",
    "    \n",
    "\n",
    "def RemovePunctuation(tweet):\n",
    "    tweet=RemoveComma(tweet)\n",
    "    tweet=RemoveDot(tweet)\n",
    "    tweet=RemoveQuotMarks(tweet)\n",
    "    tweet=RemoveExclamation(tweet)\n",
    "    tweet=RemoveColon(tweet)\n",
    "    tweet=RemoveUpComma(tweet)\n",
    "    tweet=RemoveQuestion(tweet)\n",
    "    tweet=RemoveHyphen(tweet)\n",
    "    return tweet\n",
    "\n",
    "\n"
   ]
  },
  {
   "cell_type": "code",
   "execution_count": null,
   "metadata": {},
   "outputs": [],
   "source": [
    "def RemoveLinks(text):\n",
    "    regex= r\"http\\S+\"\n",
    "    text = re.sub(regex,\"\",text)\n",
    "    return text\n",
    "\n",
    "def RemoveAt(text):\n",
    "    regex= r\"@\\w+\"\n",
    "    text = re.sub(regex,\"\",text)\n",
    "    return text\n",
    "\n",
    "def RemoveHashtag(text):\n",
    "    regex= r\"#\\w+\" \n",
    "    text = re.sub(regex,\"\",text)\n",
    "    return text\n",
    "\n",
    "def RemoveNLine(text):\n",
    "    regex= r\"\\n\" #ESTA NO FUNCIONA\n",
    "    text = re.sub(regex,\"\",text)\n",
    "    return text\n",
    "\n",
    "def RemoveNoise(tweet):\n",
    "    tweet=RemoveLinks(tweet)\n",
    "    tweet=RemoveAt(tweet)\n",
    "    tweet=RemoveHashtag(tweet)\n",
    "    tweet=RemoveNLine(tweet)\n",
    "    return tweet\n",
    "\n",
    "def RemoveNumbers(text):\n",
    "    regex= r'\\d+'\n",
    "    text = re.sub(regex,\"\",text)\n",
    "    return text\n",
    "\n",
    "def limpiar (tweet): \n",
    "    tweet=RemoveNoise(tweet)\n",
    "    tweet=RemovePunctuation(tweet)\n",
    "    tweet=RemoveNumbers(tweet)\n",
    "    return tweet"
   ]
  },
  {
   "cell_type": "code",
   "execution_count": 1,
   "metadata": {},
   "outputs": [
    {
     "ename": "SyntaxError",
     "evalue": "cannot assign to operator (<ipython-input-1-321ef31622c9>, line 4)",
     "output_type": "error",
     "traceback": [
      "\u001b[1;36m  File \u001b[1;32m\"<ipython-input-1-321ef31622c9>\"\u001b[1;36m, line \u001b[1;32m4\u001b[0m\n\u001b[1;33m    lista_+a = []\u001b[0m\n\u001b[1;37m    ^\u001b[0m\n\u001b[1;31mSyntaxError\u001b[0m\u001b[1;31m:\u001b[0m cannot assign to operator\n"
     ]
    }
   ],
   "source": [
    "frutero = [\"platano\", \"uva\", \"manzana\"]\n",
    "\n",
    "for a in frutero:\n",
    "    lista_+a = []"
   ]
  },
  {
   "cell_type": "code",
   "execution_count": 58,
   "metadata": {},
   "outputs": [
    {
     "ename": "AttributeError",
     "evalue": "'str' object has no attribute 'text'",
     "output_type": "error",
     "traceback": [
      "\u001b[1;31m---------------------------------------------------------------------------\u001b[0m",
      "\u001b[1;31mAttributeError\u001b[0m                            Traceback (most recent call last)",
      "\u001b[1;32m<ipython-input-58-4ee8d0ed4c2a>\u001b[0m in \u001b[0;36m<module>\u001b[1;34m\u001b[0m\n\u001b[0;32m     13\u001b[0m \u001b[1;32mfor\u001b[0m \u001b[0mtext\u001b[0m \u001b[1;32min\u001b[0m \u001b[0mtexts\u001b[0m\u001b[1;33m:\u001b[0m\u001b[1;33m\u001b[0m\u001b[1;33m\u001b[0m\u001b[0m\n\u001b[0;32m     14\u001b[0m     \u001b[0mtext\u001b[0m \u001b[1;33m=\u001b[0m \u001b[0mnlp\u001b[0m\u001b[1;33m(\u001b[0m\u001b[0mtext\u001b[0m\u001b[1;33m)\u001b[0m\u001b[1;33m\u001b[0m\u001b[1;33m\u001b[0m\u001b[0m\n\u001b[1;32m---> 15\u001b[1;33m     \u001b[1;32mif\u001b[0m \u001b[0mfrutero\u001b[0m\u001b[1;33m[\u001b[0m\u001b[0me\u001b[0m\u001b[1;33m]\u001b[0m\u001b[1;33m.\u001b[0m\u001b[0mtext\u001b[0m \u001b[1;32min\u001b[0m \u001b[0mtext\u001b[0m\u001b[1;33m:\u001b[0m\u001b[1;33m\u001b[0m\u001b[1;33m\u001b[0m\u001b[0m\n\u001b[0m\u001b[0;32m     16\u001b[0m         \u001b[1;32mfor\u001b[0m \u001b[0mname\u001b[0m \u001b[1;32min\u001b[0m \u001b[0mfrutero\u001b[0m\u001b[1;33m:\u001b[0m\u001b[1;33m\u001b[0m\u001b[1;33m\u001b[0m\u001b[0m\n\u001b[0;32m     17\u001b[0m             \u001b[1;32mif\u001b[0m \u001b[0mre\u001b[0m\u001b[1;33m.\u001b[0m\u001b[0mmatch\u001b[0m\u001b[1;33m(\u001b[0m\u001b[0mfrutero\u001b[0m\u001b[1;33m[\u001b[0m\u001b[0me\u001b[0m\u001b[1;33m]\u001b[0m\u001b[1;33m,\u001b[0m \u001b[0mtext\u001b[0m\u001b[1;33m)\u001b[0m\u001b[1;33m:\u001b[0m\u001b[1;33m\u001b[0m\u001b[1;33m\u001b[0m\u001b[0m\n",
      "\u001b[1;31mAttributeError\u001b[0m: 'str' object has no attribute 'text'"
     ]
    }
   ],
   "source": [
    "import re\n",
    "from spacy.lang.es import Spanish\n",
    "import spacy\n",
    "nlp = spacy.load(\"es_core_news_sm\")\n",
    "\n",
    "\n",
    "\n",
    "frutero = [\"platano\", \"uva\", \"manzana\", \"pera\"]\n",
    "texts = ['peter is platano', 'john is lazy', 'thomas is thomas','george is curious']\n",
    "\n",
    "matched = {n: [] for n in frutero}\n",
    "e=0\n",
    "for text in texts:\n",
    "    text = nlp(text)\n",
    "    if frutero[e] in text:\n",
    "        for name in frutero:\n",
    "            if re.match(frutero[e], text):\n",
    "                matched[frutero[e]].append(1)\n",
    "            else:\n",
    "                matched[frutero[e]].append(text)\n",
    "            \n",
    "print (matched.keys())\n",
    "print (len(matched.values()))"
   ]
  },
  {
   "cell_type": "code",
   "execution_count": 31,
   "metadata": {},
   "outputs": [
    {
     "ename": "TypeError",
     "evalue": "'dict_keys' object is not subscriptable",
     "output_type": "error",
     "traceback": [
      "\u001b[1;31m---------------------------------------------------------------------------\u001b[0m",
      "\u001b[1;31mTypeError\u001b[0m                                 Traceback (most recent call last)",
      "\u001b[1;32m<ipython-input-31-87bd7d8f0fed>\u001b[0m in \u001b[0;36m<module>\u001b[1;34m\u001b[0m\n\u001b[0;32m      3\u001b[0m \u001b[0ma_subset\u001b[0m \u001b[1;33m=\u001b[0m \u001b[1;33m{\u001b[0m\u001b[0mkey\u001b[0m\u001b[1;33m:\u001b[0m \u001b[0mvalue\u001b[0m \u001b[1;32mfor\u001b[0m \u001b[0mkey\u001b[0m\u001b[1;33m,\u001b[0m \u001b[0mvalue\u001b[0m \u001b[1;32min\u001b[0m \u001b[0mmatched\u001b[0m\u001b[1;33m.\u001b[0m\u001b[0mitems\u001b[0m\u001b[1;33m(\u001b[0m\u001b[1;33m)\u001b[0m\u001b[1;33m}\u001b[0m\u001b[1;33m\u001b[0m\u001b[1;33m\u001b[0m\u001b[0m\n\u001b[0;32m      4\u001b[0m \u001b[1;33m\u001b[0m\u001b[0m\n\u001b[1;32m----> 5\u001b[1;33m \u001b[0mprint\u001b[0m \u001b[1;33m(\u001b[0m\u001b[0mmatched\u001b[0m\u001b[1;33m.\u001b[0m\u001b[0mkeys\u001b[0m\u001b[1;33m(\u001b[0m\u001b[1;33m)\u001b[0m\u001b[1;33m[\u001b[0m\u001b[1;36m1\u001b[0m\u001b[1;33m]\u001b[0m\u001b[1;33m)\u001b[0m\u001b[1;33m\u001b[0m\u001b[1;33m\u001b[0m\u001b[0m\n\u001b[0m\u001b[0;32m      6\u001b[0m \u001b[1;31m#print (a_subset.keys())\u001b[0m\u001b[1;33m\u001b[0m\u001b[1;33m\u001b[0m\u001b[1;33m\u001b[0m\u001b[0m\n",
      "\u001b[1;31mTypeError\u001b[0m: 'dict_keys' object is not subscriptable"
     ]
    }
   ],
   "source": [
    "a_dictionary = {\"a\": 1, \"b\": 2, \"c\": 3, \"d\": 4}\n",
    "\n",
    "a_subset = {key: value for key, value in matched.items()}\n",
    "\n",
    "print (matched.keys())\n",
    "#print (a_subset.keys())"
   ]
  },
  {
   "cell_type": "code",
   "execution_count": 41,
   "metadata": {},
   "outputs": [
    {
     "name": "stdout",
     "output_type": "stream",
     "text": [
      "dict_keys(['key', 'laves'])\n",
      "dict_keys(['key', 'laves'])\n"
     ]
    }
   ],
   "source": [
    "d = {'key':['hello', 'brave', 'morning', 'sunset', 'metaphysics'], 'llaves':[\"ojala\", 'sunset', 'metaphysics']}\n",
    "for key in d.keys():\n",
    "    print (d.keys())\n",
    "print (d.keys())\n",
    "length_key = len(d['key']) \n",
    "print (length_key)"
   ]
  },
  {
   "cell_type": "code",
   "execution_count": 49,
   "metadata": {},
   "outputs": [
    {
     "name": "stdout",
     "output_type": "stream",
     "text": [
      "['key', ['hello', 'brave', 'morning', 'sunset', 'metaphysics']]\n",
      "['key', ['hello', 'brave', 'morning', 'sunset', 'metaphysics']]\n"
     ]
    }
   ],
   "source": [
    "dictlist = []\n",
    "for key, value in dict.items(d):\n",
    "    temp = [key,value]\n",
    "    dictlist.append(temp)\n",
    "    \n",
    "    print (dictlist[0])"
   ]
  },
  {
   "cell_type": "code",
   "execution_count": null,
   "metadata": {},
   "outputs": [],
   "source": []
  }
 ],
 "metadata": {
  "kernelspec": {
   "display_name": "Python 3",
   "language": "python",
   "name": "python3"
  },
  "language_info": {
   "codemirror_mode": {
    "name": "ipython",
    "version": 3
   },
   "file_extension": ".py",
   "mimetype": "text/x-python",
   "name": "python",
   "nbconvert_exporter": "python",
   "pygments_lexer": "ipython3",
   "version": "3.8.3"
  }
 },
 "nbformat": 4,
 "nbformat_minor": 4
}
