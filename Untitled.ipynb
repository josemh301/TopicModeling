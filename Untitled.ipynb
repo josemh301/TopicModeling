{
 "cells": [
  {
   "cell_type": "code",
   "execution_count": 36,
   "metadata": {},
   "outputs": [
    {
     "name": "stdout",
     "output_type": "stream",
     "text": [
      "\"@RAEinforma ¿Ha aceptado a regañadientes? #dudaRAE \\n\\n¿Andadura o anduviese? #dudaRAE \\n\\n@RAEinforma\"\n",
      "\n"
     ]
    }
   ],
   "source": [
    "with open(\"tweets.txt\",mode=\"r\", encoding=\"utf-8\") as fp:\n",
    "    lines = fp.readlines()\n",
    "print (lines[0])"
   ]
  },
  {
   "cell_type": "code",
   "execution_count": 44,
   "metadata": {},
   "outputs": [
    {
     "name": "stdout",
     "output_type": "stream",
     "text": [
      "['\"No lo duden, #dudaRAE responde a todos...\"\\n']\n"
     ]
    }
   ],
   "source": [
    "hashtag = \"#dudaRAE\"\n",
    "\n",
    "lista_de_tweets = []\n",
    "n = 0\n",
    "lista_de_tweets.append(lines[n])\n",
    "n =+1\n",
    "\n",
    "print (lista_de_tweets)\n",
    "    "
   ]
  },
  {
   "cell_type": "code",
   "execution_count": null,
   "metadata": {},
   "outputs": [],
   "source": []
  }
 ],
 "metadata": {
  "kernelspec": {
   "display_name": "Python 3",
   "language": "python",
   "name": "python3"
  },
  "language_info": {
   "codemirror_mode": {
    "name": "ipython",
    "version": 3
   },
   "file_extension": ".py",
   "mimetype": "text/x-python",
   "name": "python",
   "nbconvert_exporter": "python",
   "pygments_lexer": "ipython3",
   "version": "3.8.3"
  }
 },
 "nbformat": 4,
 "nbformat_minor": 4
}
